{
 "cells": [
  {
   "cell_type": "code",
   "execution_count": 2,
   "metadata": {},
   "outputs": [
    {
     "name": "stdout",
     "output_type": "stream",
     "text": [
      "나무를 1번 찍었습니다.\n",
      "나무를 2번 찍었습니다.\n",
      "나무를 3번 찍었습니다.\n",
      "나무를 4번 찍었습니다.\n",
      "나무를 5번 찍었습니다.\n",
      "나무를 6번 찍었습니다.\n",
      "나무를 7번 찍었습니다.\n",
      "나무를 8번 찍었습니다.\n",
      "나무를 9번 찍었습니다.\n",
      "나무를 10번 찍었습니다.\n",
      "나무 넘어갑니다.\n"
     ]
    }
   ],
   "source": [
    "treeHit = 0\n",
    "while treeHit < 10:\n",
    "    treeHit += 1\n",
    "    print('나무를 %d번 찍었습니다.' % treeHit)\n",
    "    if treeHit == 10:\n",
    "        print('나무 넘어갑니다.')"
   ]
  },
  {
   "cell_type": "code",
   "execution_count": 4,
   "metadata": {},
   "outputs": [
    {
     "name": "stdout",
     "output_type": "stream",
     "text": [
      "\n",
      "1. Add\n",
      "2. Del\n",
      "3. List\n",
      "4. Quit\n",
      "\n",
      "Enter number: \n",
      "4\n"
     ]
    }
   ],
   "source": [
    "prompt = '''\n",
    "1. Add\n",
    "2. Del\n",
    "3. List\n",
    "4. Quit\n",
    "\n",
    "Enter number: '''\n",
    "\n",
    "number = 0\n",
    "while number != 4:\n",
    "    print(prompt)\n",
    "    number = int(input())"
   ]
  },
  {
   "cell_type": "code",
   "execution_count": 5,
   "metadata": {},
   "outputs": [
    {
     "name": "stdout",
     "output_type": "stream",
     "text": [
      "돈을 받았으니 커피를 줍니다.\n",
      "남은 커피의 양은 9개입니다.\n",
      "돈을 받았으니 커피를 줍니다.\n",
      "남은 커피의 양은 8개입니다.\n",
      "돈을 받았으니 커피를 줍니다.\n",
      "남은 커피의 양은 7개입니다.\n",
      "돈을 받았으니 커피를 줍니다.\n",
      "남은 커피의 양은 6개입니다.\n",
      "돈을 받았으니 커피를 줍니다.\n",
      "남은 커피의 양은 5개입니다.\n",
      "돈을 받았으니 커피를 줍니다.\n",
      "남은 커피의 양은 4개입니다.\n",
      "돈을 받았으니 커피를 줍니다.\n",
      "남은 커피의 양은 3개입니다.\n",
      "돈을 받았으니 커피를 줍니다.\n",
      "남은 커피의 양은 2개입니다.\n",
      "돈을 받았으니 커피를 줍니다.\n",
      "남은 커피의 양은 1개입니다.\n",
      "돈을 받았으니 커피를 줍니다.\n",
      "남은 커피의 양은 0개입니다.\n",
      "커피가 다 떨어졌습니다. 판매를 중지합니다.\n"
     ]
    }
   ],
   "source": [
    "coffee = 10\n",
    "money = 300\n",
    "while money:\n",
    "    print('돈을 받았으니 커피를 줍니다.')\n",
    "    coffee = coffee -1\n",
    "    print('남은 커피의 양은 %d개입니다.' % coffee)\n",
    "    if coffee == 0:\n",
    "        print('커피가 다 떨어졌습니다. 판매를 중지합니다.')\n",
    "        break"
   ]
  },
  {
   "cell_type": "code",
   "execution_count": 7,
   "metadata": {},
   "outputs": [
    {
     "name": "stdout",
     "output_type": "stream",
     "text": [
      "돈을 넣어 주세요.:10000\n",
      "거스름돈 9700를 주고 커피를 줍니다.\n",
      "돈을 넣어 주세요.:100\n",
      "돈을 다시 돌려주고 커피를 주지 않습니다.\n",
      "남은 커피의 양은 9개입니다.\n",
      "돈을 넣어 주세요.:a = 0\n"
     ]
    },
    {
     "ename": "ValueError",
     "evalue": "invalid literal for int() with base 10: 'a = 0'",
     "output_type": "error",
     "traceback": [
      "\u001b[1;31m---------------------------------------------------------------------------\u001b[0m",
      "\u001b[1;31mValueError\u001b[0m                                Traceback (most recent call last)",
      "\u001b[1;32m<ipython-input-7-a77b044b09ed>\u001b[0m in \u001b[0;36m<module>\u001b[1;34m\u001b[0m\n\u001b[0;32m      1\u001b[0m \u001b[0mcoffee\u001b[0m \u001b[1;33m=\u001b[0m \u001b[1;36m10\u001b[0m\u001b[1;33m\u001b[0m\u001b[1;33m\u001b[0m\u001b[0m\n\u001b[0;32m      2\u001b[0m \u001b[1;32mwhile\u001b[0m \u001b[1;32mTrue\u001b[0m\u001b[1;33m:\u001b[0m\u001b[1;33m\u001b[0m\u001b[1;33m\u001b[0m\u001b[0m\n\u001b[1;32m----> 3\u001b[1;33m     \u001b[0mmoney\u001b[0m \u001b[1;33m=\u001b[0m \u001b[0mint\u001b[0m\u001b[1;33m(\u001b[0m\u001b[0minput\u001b[0m\u001b[1;33m(\u001b[0m\u001b[1;34m'돈을 넣어 주세요.:'\u001b[0m\u001b[1;33m)\u001b[0m\u001b[1;33m)\u001b[0m\u001b[1;33m\u001b[0m\u001b[1;33m\u001b[0m\u001b[0m\n\u001b[0m\u001b[0;32m      4\u001b[0m     \u001b[1;32mif\u001b[0m \u001b[0mmoney\u001b[0m \u001b[1;33m==\u001b[0m \u001b[1;36m300\u001b[0m\u001b[1;33m:\u001b[0m\u001b[1;33m\u001b[0m\u001b[1;33m\u001b[0m\u001b[0m\n\u001b[0;32m      5\u001b[0m         \u001b[0mprint\u001b[0m\u001b[1;33m(\u001b[0m\u001b[1;34m'커피를 줍니다.'\u001b[0m\u001b[1;33m)\u001b[0m\u001b[1;33m\u001b[0m\u001b[1;33m\u001b[0m\u001b[0m\n",
      "\u001b[1;31mValueError\u001b[0m: invalid literal for int() with base 10: 'a = 0'"
     ]
    }
   ],
   "source": [
    "coffee = 10\n",
    "while True:\n",
    "    money = int(input('돈을 넣어 주세요.:'))\n",
    "    if money == 300:\n",
    "        print('커피를 줍니다.')\n",
    "        coffee = coffee -1\n",
    "    elif money > 300:\n",
    "        print('거스름돈 %d를 주고 커피를 줍니다.' % (money -300))\n",
    "        coffee = coffee -1\n",
    "    else:\n",
    "        print('돈을 다시 돌려주고 커피를 주지 않습니다.')\n",
    "        print('남은 커피의 양은 %d개입니다.' % coffee)\n",
    "    if coffee == 0:\n",
    "        print('커피가 다 떨어졌습니다. 판매를 중지합니다.')\n",
    "        break"
   ]
  },
  {
   "cell_type": "code",
   "execution_count": 13,
   "metadata": {},
   "outputs": [
    {
     "name": "stdout",
     "output_type": "stream",
     "text": [
      "2\n",
      "4\n",
      "6\n",
      "8\n",
      "10\n"
     ]
    }
   ],
   "source": [
    "a = 0\n",
    "while a < 10:\n",
    "    a = a +1\n",
    "    if a % 2 == 1: continue\n",
    "    print(a)"
   ]
  },
  {
   "cell_type": "code",
   "execution_count": 14,
   "metadata": {},
   "outputs": [
    {
     "name": "stdout",
     "output_type": "stream",
     "text": [
      "one\n",
      "two\n",
      "three\n"
     ]
    }
   ],
   "source": [
    "test_list = ['one', 'two', 'three']\n",
    "for i in test_list:\n",
    "    print(i)"
   ]
  },
  {
   "cell_type": "code",
   "execution_count": 19,
   "metadata": {},
   "outputs": [
    {
     "name": "stdout",
     "output_type": "stream",
     "text": [
      "3\n",
      "7\n",
      "11\n"
     ]
    }
   ],
   "source": [
    "a = [(1, 2), (3, 4), (5, 6)]\n",
    "for (first, last) in a:\n",
    "    print(first + last)"
   ]
  },
  {
   "cell_type": "code",
   "execution_count": 18,
   "metadata": {},
   "outputs": [
    {
     "name": "stdout",
     "output_type": "stream",
     "text": [
      "1번 학생은 합격입니다.\n",
      "2번 학생은 불합격입니다.\n",
      "3번 학생은 합격입니다.\n",
      "4번 학생은 불합격입니다.\n",
      "5번 학생은 합격입니다.\n"
     ]
    }
   ],
   "source": [
    "marks = [90, 25, 67, 45, 80]\n",
    "\n",
    "number = 0\n",
    "for mark in marks:\n",
    "    number = number +1\n",
    "    if mark >= 60:\n",
    "        print('%d번 학생은 합격입니다.' % number)\n",
    "    else:\n",
    "        print('%d번 학생은 불합격입니다.' % number)"
   ]
  },
  {
   "cell_type": "code",
   "execution_count": 20,
   "metadata": {},
   "outputs": [
    {
     "name": "stdout",
     "output_type": "stream",
     "text": [
      "1번 학생 축하합니다. 합격입니다.\n",
      "3번 학생 축하합니다. 합격입니다.\n",
      "5번 학생 축하합니다. 합격입니다.\n"
     ]
    }
   ],
   "source": [
    "marks = [90, 25, 67, 45, 80]\n",
    "\n",
    "number = 0\n",
    "for mark in marks:\n",
    "    number = number +1\n",
    "    if mark < 60:\n",
    "        continue\n",
    "    print('%d번 학생 축하합니다. 합격입니다.' % number)"
   ]
  },
  {
   "cell_type": "code",
   "execution_count": 21,
   "metadata": {},
   "outputs": [
    {
     "data": {
      "text/plain": [
       "range(0, 10)"
      ]
     },
     "execution_count": 21,
     "metadata": {},
     "output_type": "execute_result"
    }
   ],
   "source": [
    "range(10)"
   ]
  },
  {
   "cell_type": "code",
   "execution_count": 22,
   "metadata": {},
   "outputs": [
    {
     "data": {
      "text/plain": [
       "[0, 1, 2, 3, 4, 5, 6, 7, 8, 9]"
      ]
     },
     "execution_count": 22,
     "metadata": {},
     "output_type": "execute_result"
    }
   ],
   "source": [
    "list(range(10))"
   ]
  },
  {
   "cell_type": "code",
   "execution_count": 23,
   "metadata": {},
   "outputs": [
    {
     "data": {
      "text/plain": [
       "[1, 2, 3, 4, 5, 6, 7, 8, 9, 10]"
      ]
     },
     "execution_count": 23,
     "metadata": {},
     "output_type": "execute_result"
    }
   ],
   "source": [
    "list(range(1, 11))"
   ]
  },
  {
   "cell_type": "code",
   "execution_count": 24,
   "metadata": {},
   "outputs": [
    {
     "data": {
      "text/plain": [
       "[1, 3, 5, 7, 9]"
      ]
     },
     "execution_count": 24,
     "metadata": {},
     "output_type": "execute_result"
    }
   ],
   "source": [
    "list(range(1, 11, 2))"
   ]
  },
  {
   "cell_type": "code",
   "execution_count": 26,
   "metadata": {},
   "outputs": [
    {
     "name": "stdout",
     "output_type": "stream",
     "text": [
      "55\n"
     ]
    }
   ],
   "source": [
    "add = 0\n",
    "for i in range(1, 11):\n",
    "    add = add + i\n",
    "print(add)"
   ]
  },
  {
   "cell_type": "code",
   "execution_count": 28,
   "metadata": {},
   "outputs": [
    {
     "name": "stdout",
     "output_type": "stream",
     "text": [
      "1번 학생 축하합니다. 합격입니다.\n",
      "3번 학생 축하합니다. 합격입니다.\n",
      "5번 학생 축하합니다. 합격입니다.\n"
     ]
    }
   ],
   "source": [
    "marks = [90, 25, 67, 45, 80]\n",
    "\n",
    "number = 0\n",
    "for number in range(len(marks)):\n",
    "    if marks[number] < 60:\n",
    "        continue\n",
    "    print('%d번 학생 축하합니다. 합격입니다.' % (number+1))"
   ]
  },
  {
   "cell_type": "code",
   "execution_count": 37,
   "metadata": {},
   "outputs": [
    {
     "name": "stdout",
     "output_type": "stream",
     "text": [
      "2 4 6 8 10 12 14 16 18 \n",
      "3 6 9 12 15 18 21 24 27 \n",
      "4 8 12 16 20 24 28 32 36 \n",
      "5 10 15 20 25 30 35 40 45 \n",
      "6 12 18 24 30 36 42 48 54 \n",
      "7 14 21 28 35 42 49 56 63 \n",
      "8 16 24 32 40 48 56 64 72 \n",
      "9 18 27 36 45 54 63 72 81 \n"
     ]
    }
   ],
   "source": [
    "for i in range(2, 10):\n",
    "    for j in range(1, 10):\n",
    "        print(i*j, end=' ')\n",
    "    print('')"
   ]
  },
  {
   "cell_type": "code",
   "execution_count": 41,
   "metadata": {},
   "outputs": [
    {
     "name": "stdout",
     "output_type": "stream",
     "text": [
      "[6, 12]\n"
     ]
    }
   ],
   "source": [
    "a = [1, 2, 3, 4]\n",
    "result = [num * 3 for num in a if num % 2 == 0]\n",
    "print(result)"
   ]
  },
  {
   "cell_type": "code",
   "execution_count": 50,
   "metadata": {},
   "outputs": [
    {
     "name": "stdout",
     "output_type": "stream",
     "text": [
      "166833\n"
     ]
    }
   ],
   "source": [
    "i = 1\n",
    "result = 0\n",
    "while i <= 1000:\n",
    "    if i % 3 == 0:\n",
    "        result = result + i\n",
    "    i = i + 1\n",
    "\n",
    "print(result)"
   ]
  },
  {
   "cell_type": "code",
   "execution_count": null,
   "metadata": {},
   "outputs": [
    {
     "name": "stdout",
     "output_type": "stream",
     "text": [
      "\n",
      "*\n",
      "**\n",
      "***\n",
      "****\n",
      "*****\n"
     ]
    }
   ],
   "source": [
    "i = 0\n",
    "while True:\n",
    "    if i <= 5:\n",
    "        print('*' * i)\n",
    "        i = i + 1"
   ]
  },
  {
   "cell_type": "code",
   "execution_count": 8,
   "metadata": {},
   "outputs": [
    {
     "name": "stdout",
     "output_type": "stream",
     "text": [
      "1\n",
      "2\n",
      "3\n",
      "4\n",
      "5\n",
      "6\n",
      "7\n",
      "8\n",
      "9\n",
      "10\n",
      "11\n",
      "12\n",
      "13\n",
      "14\n",
      "15\n",
      "16\n",
      "17\n",
      "18\n",
      "19\n",
      "20\n",
      "21\n",
      "22\n",
      "23\n",
      "24\n",
      "25\n",
      "26\n",
      "27\n",
      "28\n",
      "29\n",
      "30\n",
      "31\n",
      "32\n",
      "33\n",
      "34\n",
      "35\n",
      "36\n",
      "37\n",
      "38\n",
      "39\n",
      "40\n",
      "41\n",
      "42\n",
      "43\n",
      "44\n",
      "45\n",
      "46\n",
      "47\n",
      "48\n",
      "49\n",
      "50\n",
      "51\n",
      "52\n",
      "53\n",
      "54\n",
      "55\n",
      "56\n",
      "57\n",
      "58\n",
      "59\n",
      "60\n",
      "61\n",
      "62\n",
      "63\n",
      "64\n",
      "65\n",
      "66\n",
      "67\n",
      "68\n",
      "69\n",
      "70\n",
      "71\n",
      "72\n",
      "73\n",
      "74\n",
      "75\n",
      "76\n",
      "77\n",
      "78\n",
      "79\n",
      "80\n",
      "81\n",
      "82\n",
      "83\n",
      "84\n",
      "85\n",
      "86\n",
      "87\n",
      "88\n",
      "89\n",
      "90\n",
      "91\n",
      "92\n",
      "93\n",
      "94\n",
      "95\n",
      "96\n",
      "97\n",
      "98\n",
      "99\n",
      "100\n"
     ]
    }
   ],
   "source": [
    "for i in range(1, 101):\n",
    "    print(i)"
   ]
  },
  {
   "cell_type": "code",
   "execution_count": 45,
   "metadata": {},
   "outputs": [
    {
     "name": "stdout",
     "output_type": "stream",
     "text": [
      "790\n",
      "79.0\n"
     ]
    }
   ],
   "source": [
    "score = [70, 60, 55, 75, 95, 90, 80, 80, 85, 100]\n",
    "Sum = 0\n",
    "\n",
    "for i in score:\n",
    "    Sum = Sum + i\n",
    "    average = Sum / len(score)\n",
    "print(Sum)\n",
    "print(average)"
   ]
  },
  {
   "cell_type": "code",
   "execution_count": 22,
   "metadata": {},
   "outputs": [],
   "source": [
    "numbers = [1, 2, 3, 4, 5]\n",
    "result = []\n",
    "for n in numbers:\n",
    "    if n % 2 == 1:\n",
    "        result.append(n*2)"
   ]
  },
  {
   "cell_type": "code",
   "execution_count": 30,
   "metadata": {},
   "outputs": [
    {
     "name": "stdout",
     "output_type": "stream",
     "text": [
      "[2, 6, 10]\n"
     ]
    }
   ],
   "source": [
    "numbers = [1, 2, 3, 4, 5]\n",
    "result = [i * 2 for i in numbers if i % 2 == 1]\n",
    "print(result)"
   ]
  },
  {
   "cell_type": "code",
   "execution_count": 1,
   "metadata": {},
   "outputs": [
    {
     "name": "stdout",
     "output_type": "stream",
     "text": [
      "790\n",
      "79.0\n"
     ]
    }
   ],
   "source": [
    "score = [70, 60, 55, 75, 95, 90, 80, 80, 85, 100]\n",
    "Sum=sum(score)\n",
    "print(Sum)\n",
    "avg = Sum / len(score)\n",
    "print(avg)"
   ]
  },
  {
   "cell_type": "code",
   "execution_count": 2,
   "metadata": {},
   "outputs": [
    {
     "name": "stdout",
     "output_type": "stream",
     "text": [
      "0번째 요소는 요소A입니다.\n",
      "1번째 요소는 요소B입니다.\n",
      "2번째 요소는 요소C입니다.\n"
     ]
    }
   ],
   "source": [
    "example_list = ['요소A', '요소B', '요소C']\n",
    "i = 0\n",
    "for item in example_list:\n",
    "    print('{}번째 요소는 {}입니다.' .format(i, item))\n",
    "    i += 1"
   ]
  },
  {
   "cell_type": "code",
   "execution_count": 5,
   "metadata": {},
   "outputs": [
    {
     "name": "stdout",
     "output_type": "stream",
     "text": [
      "[(0, '요소A'), (1, '요소B'), (2, '요소C')]\n",
      "0번째 요소는 요소A입니다.\n",
      "1번째 요소는 요소B입니다.\n",
      "2번째 요소는 요소C입니다.\n"
     ]
    }
   ],
   "source": [
    "example_list = ['요소A', '요소B', '요소C']\n",
    "\n",
    "print(list(enumerate(example_list)))\n",
    "\n",
    "for i, value in enumerate(example_list):\n",
    "    print('{}번째 요소는 {}입니다.' .format(i, value))"
   ]
  },
  {
   "cell_type": "code",
   "execution_count": 6,
   "metadata": {},
   "outputs": [
    {
     "name": "stdout",
     "output_type": "stream",
     "text": [
      "dict_items([('키A', '값A'), ('키B', '값B'), ('키C', '값C')])\n"
     ]
    }
   ],
   "source": [
    "example_dictionary = {\n",
    "    '키A' : '값A',\n",
    "    '키B' : '값B',\n",
    "    '키C' : '값C',\n",
    "}\n",
    "\n",
    "print(example_dictionary.items())"
   ]
  },
  {
   "cell_type": "code",
   "execution_count": 7,
   "metadata": {},
   "outputs": [
    {
     "name": "stdout",
     "output_type": "stream",
     "text": [
      "키A = 값A\n",
      "키B = 값B\n",
      "키C = 값C\n"
     ]
    }
   ],
   "source": [
    "for key, element in example_dictionary.items():\n",
    "    print('{} = {}'.format(key,element))"
   ]
  },
  {
   "cell_type": "code",
   "execution_count": 8,
   "metadata": {},
   "outputs": [
    {
     "name": "stdout",
     "output_type": "stream",
     "text": [
      "[0, 4, 16, 36, 64, 100, 144, 196, 256, 324]\n"
     ]
    }
   ],
   "source": [
    "array = []\n",
    "\n",
    "for i in range(0, 20, 2):\n",
    "    array.append( i * i)\n",
    "print(array)"
   ]
  },
  {
   "cell_type": "code",
   "execution_count": 10,
   "metadata": {},
   "outputs": [
    {
     "name": "stdout",
     "output_type": "stream",
     "text": [
      "[0, 4, 16, 36, 64, 100, 144, 196, 256, 324]\n"
     ]
    }
   ],
   "source": [
    "array = [i * i for i in range(0, 20, 2)]\n",
    "\n",
    "print(array)"
   ]
  },
  {
   "cell_type": "code",
   "execution_count": 11,
   "metadata": {},
   "outputs": [
    {
     "name": "stdout",
     "output_type": "stream",
     "text": [
      "['사과', '자두', '바나나', '체리']\n"
     ]
    }
   ],
   "source": [
    "array = ['사과', '자두', '초콜릿', '바나나', '체리']\n",
    "output = [fruit for fruit in array if fruit != '초콜릿']\n",
    "print(output)"
   ]
  },
  {
   "cell_type": "code",
   "execution_count": 16,
   "metadata": {},
   "outputs": [
    {
     "name": "stdout",
     "output_type": "stream",
     "text": [
      "정수 입력25\n",
      "입력한 문자열은 25입니다.\n",
      "25은(는) 홀수입니다.\n"
     ]
    }
   ],
   "source": [
    "number = int(input('정수 입력'))\n",
    "\n",
    "if number % 2 == 0:\n",
    "    print('\\n'.join([\n",
    "        '입력한 문자열은 {}입니다.',\n",
    "        '{}는(은) 짝수입니다.'\n",
    "          ]).format(number, number))\n",
    "else:\n",
    "    print('\\n'.join([\n",
    "        '입력한 문자열은 {}입니다.',\n",
    "        '{}은(는) 홀수입니다.'\n",
    "        ]).format(number, number))"
   ]
  },
  {
   "cell_type": "code",
   "execution_count": 17,
   "metadata": {},
   "outputs": [
    {
     "data": {
      "text/plain": [
       "<list_reverseiterator at 0x148d1c60ca0>"
      ]
     },
     "execution_count": 17,
     "metadata": {},
     "output_type": "execute_result"
    }
   ],
   "source": [
    "numbers = [1, 2, 3, 4, 5, 6]\n",
    "r_num = reversed(numbers)\n",
    "r_num"
   ]
  },
  {
   "cell_type": "code",
   "execution_count": 18,
   "metadata": {},
   "outputs": [
    {
     "data": {
      "text/plain": [
       "[6, 5, 4, 3, 2, 1]"
      ]
     },
     "execution_count": 18,
     "metadata": {},
     "output_type": "execute_result"
    }
   ],
   "source": [
    "numbers = [1, 2, 3, 4, 5, 6]\n",
    "r_num = list(reversed(numbers))\n",
    "r_num"
   ]
  },
  {
   "cell_type": "code",
   "execution_count": 20,
   "metadata": {},
   "outputs": [
    {
     "name": "stdout",
     "output_type": "stream",
     "text": [
      "reversed_numbers : <list_reverseiterator object at 0x00000148D1D45370>\n",
      "6\n",
      "5\n",
      "4\n",
      "3\n",
      "2\n"
     ]
    }
   ],
   "source": [
    "numbers = [1, 2, 3, 4, 5, 6]\n",
    "r_num = reversed(numbers)\n",
    "\n",
    "print('reversed_numbers :', r_num)\n",
    "print(next(r_num))\n",
    "print(next(r_num))\n",
    "print(next(r_num))\n",
    "print(next(r_num))\n",
    "print(next(r_num))"
   ]
  },
  {
   "cell_type": "code",
   "execution_count": 39,
   "metadata": {},
   "outputs": [],
   "source": [
    "def print_3_times():\n",
    "    print('안녕하세요.')\n",
    "    print('안녕하세요.')\n",
    "    print('안녕하세요.')"
   ]
  },
  {
   "cell_type": "code",
   "execution_count": 40,
   "metadata": {},
   "outputs": [
    {
     "name": "stdout",
     "output_type": "stream",
     "text": [
      "안녕하세요.\n",
      "안녕하세요.\n",
      "안녕하세요.\n"
     ]
    }
   ],
   "source": [
    "print_3_times()"
   ]
  },
  {
   "cell_type": "code",
   "execution_count": 41,
   "metadata": {},
   "outputs": [
    {
     "name": "stdout",
     "output_type": "stream",
     "text": [
      "안녕하세요.\n",
      "안녕하세요.\n",
      "안녕하세요.\n",
      "안녕하세요.\n",
      "안녕하세요.\n"
     ]
    }
   ],
   "source": [
    "def print_n_times(value, n):\n",
    "    for i in range(n):\n",
    "        print(value)\n",
    "print_n_times('안녕하세요.', 5)"
   ]
  },
  {
   "cell_type": "code",
   "execution_count": 51,
   "metadata": {},
   "outputs": [
    {
     "name": "stdout",
     "output_type": "stream",
     "text": [
      "뽀뽀뽀\n",
      "뽀뽀뽀\n",
      "뽀뽀뽀\n"
     ]
    }
   ],
   "source": [
    "def print_n_times(value, n):\n",
    "    for i in range(n):\n",
    "        print(value)\n",
    "print_n_times('뽀뽀뽀', 3)"
   ]
  },
  {
   "cell_type": "code",
   "execution_count": 55,
   "metadata": {},
   "outputs": [
    {
     "name": "stdout",
     "output_type": "stream",
     "text": [
      "안녕하세요\n",
      "적당히 바람이 시원해\n",
      "놀기가 참 좋아요\n",
      "대항온합시다\n",
      "\n",
      "안녕하세요\n",
      "적당히 바람이 시원해\n",
      "놀기가 참 좋아요\n",
      "대항온합시다\n",
      "\n"
     ]
    }
   ],
   "source": [
    "def print_n_times(n, *values):\n",
    "    for i in range(n):\n",
    "        for value in values:\n",
    "            print(value)\n",
    "        \n",
    "        print()\n",
    "    \n",
    "print_n_times(2, '안녕하세요', '적당히 바람이 시원해', '놀기가 참 좋아요', '대항온합시다')"
   ]
  },
  {
   "cell_type": "code",
   "execution_count": 56,
   "metadata": {},
   "outputs": [],
   "source": [
    "def print_n_times(value, n=2):\n",
    "    for i in range(n):\n",
    "        print(value)"
   ]
  },
  {
   "cell_type": "code",
   "execution_count": 64,
   "metadata": {},
   "outputs": [
    {
     "name": "stdout",
     "output_type": "stream",
     "text": [
      "하이\n",
      "하이\n",
      "하이\n",
      "하이\n",
      "하이\n"
     ]
    }
   ],
   "source": [
    "print_n_times('하이', 5)"
   ]
  },
  {
   "cell_type": "code",
   "execution_count": 65,
   "metadata": {},
   "outputs": [],
   "source": [
    "def print_n_times(n=2, *values):\n",
    "    for i in range(n):\n",
    "        for value in values:\n",
    "            print(value)\n",
    "        print()"
   ]
  },
  {
   "cell_type": "code",
   "execution_count": 66,
   "metadata": {},
   "outputs": [
    {
     "ename": "TypeError",
     "evalue": "'str' object cannot be interpreted as an integer",
     "output_type": "error",
     "traceback": [
      "\u001b[1;31m---------------------------------------------------------------------------\u001b[0m",
      "\u001b[1;31mTypeError\u001b[0m                                 Traceback (most recent call last)",
      "\u001b[1;32m<ipython-input-66-3590b4f19066>\u001b[0m in \u001b[0;36m<module>\u001b[1;34m\u001b[0m\n\u001b[1;32m----> 1\u001b[1;33m \u001b[0mprint_n_times\u001b[0m\u001b[1;33m(\u001b[0m\u001b[1;34m'내가'\u001b[0m\u001b[1;33m,\u001b[0m \u001b[1;34m'진짜로 원하는게 뭐야'\u001b[0m\u001b[1;33m)\u001b[0m\u001b[1;33m\u001b[0m\u001b[1;33m\u001b[0m\u001b[0m\n\u001b[0m",
      "\u001b[1;32m<ipython-input-65-378ab3968911>\u001b[0m in \u001b[0;36mprint_n_times\u001b[1;34m(n, *values)\u001b[0m\n\u001b[0;32m      1\u001b[0m \u001b[1;32mdef\u001b[0m \u001b[0mprint_n_times\u001b[0m\u001b[1;33m(\u001b[0m\u001b[0mn\u001b[0m\u001b[1;33m=\u001b[0m\u001b[1;36m2\u001b[0m\u001b[1;33m,\u001b[0m \u001b[1;33m*\u001b[0m\u001b[0mvalues\u001b[0m\u001b[1;33m)\u001b[0m\u001b[1;33m:\u001b[0m\u001b[1;33m\u001b[0m\u001b[1;33m\u001b[0m\u001b[0m\n\u001b[1;32m----> 2\u001b[1;33m     \u001b[1;32mfor\u001b[0m \u001b[0mi\u001b[0m \u001b[1;32min\u001b[0m \u001b[0mrange\u001b[0m\u001b[1;33m(\u001b[0m\u001b[0mn\u001b[0m\u001b[1;33m)\u001b[0m\u001b[1;33m:\u001b[0m\u001b[1;33m\u001b[0m\u001b[1;33m\u001b[0m\u001b[0m\n\u001b[0m\u001b[0;32m      3\u001b[0m         \u001b[1;32mfor\u001b[0m \u001b[0mvalue\u001b[0m \u001b[1;32min\u001b[0m \u001b[0mvalues\u001b[0m\u001b[1;33m:\u001b[0m\u001b[1;33m\u001b[0m\u001b[1;33m\u001b[0m\u001b[0m\n\u001b[0;32m      4\u001b[0m             \u001b[0mprint\u001b[0m\u001b[1;33m(\u001b[0m\u001b[0mvalue\u001b[0m\u001b[1;33m)\u001b[0m\u001b[1;33m\u001b[0m\u001b[1;33m\u001b[0m\u001b[0m\n\u001b[0;32m      5\u001b[0m         \u001b[0mprint\u001b[0m\u001b[1;33m(\u001b[0m\u001b[1;33m)\u001b[0m\u001b[1;33m\u001b[0m\u001b[1;33m\u001b[0m\u001b[0m\n",
      "\u001b[1;31mTypeError\u001b[0m: 'str' object cannot be interpreted as an integer"
     ]
    }
   ],
   "source": [
    "print_n_times('내가', '진짜로 원하는게 뭐야')"
   ]
  },
  {
   "cell_type": "code",
   "execution_count": 67,
   "metadata": {},
   "outputs": [],
   "source": [
    "def print_n_times(*values, n=2):\n",
    "    for i in range(n):\n",
    "        for value in values:\n",
    "            print(value)\n",
    "        print()"
   ]
  },
  {
   "cell_type": "code",
   "execution_count": 71,
   "metadata": {},
   "outputs": [
    {
     "name": "stdout",
     "output_type": "stream",
     "text": [
      "내가\n",
      "진짜로\n",
      "원하는게 뭐야\n",
      "\n",
      "내가\n",
      "진짜로\n",
      "원하는게 뭐야\n",
      "\n",
      "내가\n",
      "진짜로\n",
      "원하는게 뭐야\n",
      "\n"
     ]
    }
   ],
   "source": [
    "print_n_times('내가', '진짜로', '원하는게 뭐야', n=3)"
   ]
  },
  {
   "cell_type": "code",
   "execution_count": 73,
   "metadata": {},
   "outputs": [
    {
     "name": "stdout",
     "output_type": "stream",
     "text": [
      "안녕하세요\n",
      "즐거운\n",
      "파이썬 프로그래밍\n",
      "\n",
      "안녕하세요\n",
      "즐거운\n",
      "파이썬 프로그래밍\n",
      "\n",
      "안녕하세요\n",
      "즐거운\n",
      "파이썬 프로그래밍\n",
      "\n"
     ]
    }
   ],
   "source": [
    "def print_n_times(*values, n=2):\n",
    "    for i in range(n):\n",
    "        for value in values:\n",
    "            print(value)\n",
    "            \n",
    "        print()\n",
    "    \n",
    "print_n_times('안녕하세요', '즐거운', '파이썬 프로그래밍', n=3)"
   ]
  },
  {
   "cell_type": "code",
   "execution_count": 74,
   "metadata": {},
   "outputs": [
    {
     "name": "stdout",
     "output_type": "stream",
     "text": [
      "60\n",
      "310\n",
      "310\n",
      "220\n"
     ]
    }
   ],
   "source": [
    "def test(a, b=10, c=100):\n",
    "    print(a+b+c)\n",
    "    \n",
    "test(10, 20, 30)\n",
    "\n",
    "test(a=10, b=100, c=200)\n",
    "\n",
    "test(c=10, a=100, b=200)\n",
    "\n",
    "test(10, c=200)"
   ]
  },
  {
   "cell_type": "code",
   "execution_count": 76,
   "metadata": {},
   "outputs": [
    {
     "name": "stdout",
     "output_type": "stream",
     "text": [
      "A 위치입니다.\n"
     ]
    }
   ],
   "source": [
    "def return_test():\n",
    "    print('A 위치입니다.')\n",
    "    return\n",
    "    print('B 위치입니다.')\n",
    "return_test()"
   ]
  },
  {
   "cell_type": "code",
   "execution_count": 77,
   "metadata": {},
   "outputs": [
    {
     "data": {
      "text/plain": [
       "100"
      ]
     },
     "execution_count": 77,
     "metadata": {},
     "output_type": "execute_result"
    }
   ],
   "source": [
    "def return_test():\n",
    "    return 100\n",
    "\n",
    "return_test()"
   ]
  },
  {
   "cell_type": "code",
   "execution_count": 81,
   "metadata": {},
   "outputs": [
    {
     "name": "stdout",
     "output_type": "stream",
     "text": [
      "0 to 100: 5050\n",
      "0 to 1000: 500500\n",
      "50 to 100: 3825\n",
      "500 to 1000: 375750\n"
     ]
    }
   ],
   "source": [
    "def sum_all(start, end):\n",
    "    output = 0\n",
    "    for i in range(start, end + 1):\n",
    "        output += i\n",
    "    return output\n",
    "\n",
    "print('0 to 100:', sum_all(0, 100))\n",
    "print('0 to 1000:', sum_all(0, 1000))\n",
    "print('50 to 100:', sum_all(50, 100))\n",
    "print('500 to 1000:', sum_all(500, 1000))"
   ]
  },
  {
   "cell_type": "code",
   "execution_count": 84,
   "metadata": {},
   "outputs": [
    {
     "name": "stdout",
     "output_type": "stream",
     "text": [
      "A. 550\n",
      "B. 5050\n",
      "C. 2550\n"
     ]
    }
   ],
   "source": [
    "def sum_all(start=0, end=100, step=1):\n",
    "    output = 0\n",
    "    for i in range(start, end + 1, step):\n",
    "        output += i\n",
    "    return output\n",
    "\n",
    "print('A.', sum_all(0, 100, 10))\n",
    "print('B.', sum_all(end=100))\n",
    "print('C.', sum_all(end=100, step=2))"
   ]
  },
  {
   "cell_type": "code",
   "execution_count": 86,
   "metadata": {},
   "outputs": [
    {
     "name": "stdout",
     "output_type": "stream",
     "text": [
      "1!: 1\n",
      "2!: 2\n",
      "3!: 6\n",
      "4!: 24\n",
      "5!: 120\n"
     ]
    }
   ],
   "source": [
    "def factorial(n):\n",
    "    output = 1\n",
    "    for i in range(1, n + 1):\n",
    "        output *= i\n",
    "    return output\n",
    "\n",
    "print('1!:', factorial(1))\n",
    "print('2!:', factorial(2))\n",
    "print('3!:', factorial(3))\n",
    "print('4!:', factorial(4))\n",
    "print('5!:', factorial(5))"
   ]
  },
  {
   "cell_type": "code",
   "execution_count": 88,
   "metadata": {},
   "outputs": [
    {
     "name": "stdout",
     "output_type": "stream",
     "text": [
      "1!: 1\n",
      "2!: 2\n",
      "3!: 6\n",
      "4!: 24\n",
      "5!: 120\n"
     ]
    }
   ],
   "source": [
    "def factorial(n):\n",
    "    if n == 0:\n",
    "        return 1\n",
    "    else:\n",
    "        return n * factorial(n-1)\n",
    "\n",
    "print('1!:', factorial(1))\n",
    "print('2!:', factorial(2))\n",
    "print('3!:', factorial(3))\n",
    "print('4!:', factorial(4))\n",
    "print('5!:', factorial(5))"
   ]
  },
  {
   "cell_type": "code",
   "execution_count": null,
   "metadata": {},
   "outputs": [],
   "source": []
  }
 ],
 "metadata": {
  "kernelspec": {
   "display_name": "Python 3",
   "language": "python",
   "name": "python3"
  },
  "language_info": {
   "codemirror_mode": {
    "name": "ipython",
    "version": 3
   },
   "file_extension": ".py",
   "mimetype": "text/x-python",
   "name": "python",
   "nbconvert_exporter": "python",
   "pygments_lexer": "ipython3",
   "version": "3.8.5"
  }
 },
 "nbformat": 4,
 "nbformat_minor": 4
}
